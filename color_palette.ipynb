{
 "cells": [
  {
   "cell_type": "code",
   "execution_count": 38,
   "metadata": {},
   "outputs": [],
   "source": [
    "\"\"\"\n",
    "@author: Hyungjun Kim\n",
    "\"\"\"\n",
    "\n",
    "import numpy as np\n",
    "import matplotlib as mpl\n",
    "import matplotlib.pyplot as plt\n",
    "import seaborn as sns\n",
    "import pandas as pd\n",
    "\n",
    "def palplots(pals, size=1, show_text=False):\n",
    "    nrows = len(pals)\n",
    "    ncols = len(pals[list(pals)[0]])\n",
    "    \n",
    "    f, axes = plt.subplots(nrows, 1, figsize=(ncols * size * 2, size * nrows))\n",
    "    for k, c in enumerate(pals):\n",
    "        axes[k].imshow(np.arange(ncols).reshape(1, ncols),\n",
    "                  cmap=mpl.colors.ListedColormap(list(pals[c])),\n",
    "                  interpolation=\"nearest\", aspect=\"auto\")\n",
    "        if show_text:\n",
    "            for j, color in enumerate(list(pals[c])):\n",
    "                axes[k].text(j * size, 0, f'({round(color[0]*255):.0f},{round(color[1]*255):.0f},{round(color[2]*255):.0f})', horizontalalignment='center', verticalalignment='center')\n",
    "        axes[k].set_xticks(np.arange(ncols) - .5)\n",
    "        axes[k].set_yticks([-.5, .5])\n",
    "        axes[k].set_xticklabels([])\n",
    "        axes[k].set_yticklabels([])\n",
    "        axes[k].text(-size, 0, c, horizontalalignment='center',verticalalignment='center', fontsize=18)\n",
    "        "
   ]
  },
  {
   "cell_type": "code",
   "execution_count": 45,
   "metadata": {},
   "outputs": [],
   "source": [
    "n = 6 # number of colors in a palette\n",
    "palette_list = ['Greys', 'Reds', 'Blues', 'Greens']\n",
    " # palette list to show\n",
    "show_text = False # whether to show (R,G,B) text on each color or not\n",
    "show_grayscale = False # whether to show result figure in grayscale or not"
   ]
  },
  {
   "cell_type": "code",
   "execution_count": 46,
   "metadata": {},
   "outputs": [
    {
     "data": {
      "image/png": "[encoded data removed]",
      "text/plain": [
       "<Figure size 864x288 with 4 Axes>"
      ]
     },
     "metadata": {
      "needs_background": "light"
     },
     "output_type": "display_data"
    }
   ],
   "source": [
    "palette_full_list = ['Greys', 'Reds', 'Blues', 'Greens', 'Oranges', 'Purples', 'BuGn', 'BuPu', 'GnBu', 'OrRd', 'PuBu', 'PuRd', 'RdPu', 'YlGn', 'PuBuGn', 'YlGnBu', 'YlOrBr', 'YlOrRd']\n",
    "\n",
    "\n",
    "for color in palette_list:\n",
    "    if color not in palette_full_list:\n",
    "        assert False, f\"Unknown color palette: {color}\"\n",
    "\n",
    "L_list = [x/(n-1)*0.8+0.15 for x in range(n)]\n",
    "L_list.reverse()\n",
    "\n",
    "dict_pal = dict()\n",
    "for pal in palette_list:\n",
    "    df = pd.DataFrame(columns=['r', 'g', 'b', 'L'])\n",
    "    c = sns.color_palette(pal, 100)\n",
    "    dict_pal[pal] = [(0,0,0)] * n\n",
    "    for i in range(len(c)):\n",
    "        df = df.append({\n",
    "                'r':c[i][0],\n",
    "                'g':c[i][1],\n",
    "                'b':c[i][2],\n",
    "                'L':0.21*c[i][0]+0.72*c[i][1]+0.07*c[i][2],\n",
    "                }, ignore_index=True)\n",
    "    \n",
    "    for k, l in enumerate(L_list):\n",
    "        df_sort = df.iloc[(df['L']-l).abs().argsort()[:1]]\n",
    "        ind = df_sort.index.tolist()[0]\n",
    "        if show_grayscale:\n",
    "            dict_pal[pal][k] = (df.iloc[ind]['L'], df.iloc[ind]['L'], df.iloc[ind]['L'])\n",
    "        else:\n",
    "            dict_pal[pal][k] = (df.iloc[ind]['r'], df.iloc[ind]['g'], df.iloc[ind]['b'])\n",
    "    \n",
    "\n",
    "palplots(dict_pal, 1, show_text)\n"
   ]
  }
 ],
 "metadata": {
  "kernelspec": {
   "display_name": "Python 3",
   "language": "python",
   "name": "python3"
  },
  "language_info": {
   "codemirror_mode": {
    "name": "ipython",
    "version": 3
   },
   "file_extension": ".py",
   "mimetype": "text/x-python",
   "name": "python",
   "nbconvert_exporter": "python",
   "pygments_lexer": "ipython3",
   "version": "3.7.1"
  }
 },
 "nbformat": 4,
 "nbformat_minor": 2
}
